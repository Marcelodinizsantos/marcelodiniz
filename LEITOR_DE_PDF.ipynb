{
  "nbformat": 4,
  "nbformat_minor": 0,
  "metadata": {
    "colab": {
      "provenance": [],
      "authorship_tag": "ABX9TyOrBUvWQ9gS1Mvr1otLjObe",
      "include_colab_link": true
    },
    "kernelspec": {
      "name": "python3",
      "display_name": "Python 3"
    },
    "language_info": {
      "name": "python"
    },
    "widgets": {
      "application/vnd.jupyter.widget-state+json": {
        "4b6cab6652bb41dabab37863b8f29324": {
          "model_module": "@jupyter-widgets/controls",
          "model_name": "FileUploadModel",
          "model_module_version": "1.5.0",
          "state": {
            "_counter": 0,
            "_dom_classes": [],
            "_model_module": "@jupyter-widgets/controls",
            "_model_module_version": "1.5.0",
            "_model_name": "FileUploadModel",
            "_view_count": null,
            "_view_module": "@jupyter-widgets/controls",
            "_view_module_version": "1.5.0",
            "_view_name": "FileUploadView",
            "accept": ".pdf",
            "button_style": "",
            "data": [],
            "description": "Carregar PDF",
            "description_tooltip": null,
            "disabled": false,
            "error": "",
            "icon": "upload",
            "layout": "IPY_MODEL_627559cfdb904be8849a1496d73115bc",
            "metadata": [],
            "multiple": false,
            "style": "IPY_MODEL_017b538d4dd34c348229a7a57a73b35c"
          }
        },
        "627559cfdb904be8849a1496d73115bc": {
          "model_module": "@jupyter-widgets/base",
          "model_name": "LayoutModel",
          "model_module_version": "1.2.0",
          "state": {
            "_model_module": "@jupyter-widgets/base",
            "_model_module_version": "1.2.0",
            "_model_name": "LayoutModel",
            "_view_count": null,
            "_view_module": "@jupyter-widgets/base",
            "_view_module_version": "1.2.0",
            "_view_name": "LayoutView",
            "align_content": null,
            "align_items": null,
            "align_self": null,
            "border": null,
            "bottom": null,
            "display": null,
            "flex": null,
            "flex_flow": null,
            "grid_area": null,
            "grid_auto_columns": null,
            "grid_auto_flow": null,
            "grid_auto_rows": null,
            "grid_column": null,
            "grid_gap": null,
            "grid_row": null,
            "grid_template_areas": null,
            "grid_template_columns": null,
            "grid_template_rows": null,
            "height": null,
            "justify_content": null,
            "justify_items": null,
            "left": null,
            "margin": null,
            "max_height": null,
            "max_width": null,
            "min_height": null,
            "min_width": null,
            "object_fit": null,
            "object_position": null,
            "order": null,
            "overflow": null,
            "overflow_x": null,
            "overflow_y": null,
            "padding": null,
            "right": null,
            "top": null,
            "visibility": null,
            "width": null
          }
        },
        "017b538d4dd34c348229a7a57a73b35c": {
          "model_module": "@jupyter-widgets/controls",
          "model_name": "ButtonStyleModel",
          "model_module_version": "1.5.0",
          "state": {
            "_model_module": "@jupyter-widgets/controls",
            "_model_module_version": "1.5.0",
            "_model_name": "ButtonStyleModel",
            "_view_count": null,
            "_view_module": "@jupyter-widgets/base",
            "_view_module_version": "1.2.0",
            "_view_name": "StyleView",
            "button_color": null,
            "font_weight": ""
          }
        },
        "af1f23c0f7a6431facb3a8d582f7ba8d": {
          "model_module": "@jupyter-widgets/controls",
          "model_name": "ButtonModel",
          "model_module_version": "1.5.0",
          "state": {
            "_dom_classes": [],
            "_model_module": "@jupyter-widgets/controls",
            "_model_module_version": "1.5.0",
            "_model_name": "ButtonModel",
            "_view_count": null,
            "_view_module": "@jupyter-widgets/controls",
            "_view_module_version": "1.5.0",
            "_view_name": "ButtonView",
            "button_style": "",
            "description": "Enviar",
            "disabled": false,
            "icon": "",
            "layout": "IPY_MODEL_6f715a8a76e04c2fb8673f8addef89f2",
            "style": "IPY_MODEL_37c9a38520854d12904dfa3917bccf11",
            "tooltip": ""
          }
        },
        "6f715a8a76e04c2fb8673f8addef89f2": {
          "model_module": "@jupyter-widgets/base",
          "model_name": "LayoutModel",
          "model_module_version": "1.2.0",
          "state": {
            "_model_module": "@jupyter-widgets/base",
            "_model_module_version": "1.2.0",
            "_model_name": "LayoutModel",
            "_view_count": null,
            "_view_module": "@jupyter-widgets/base",
            "_view_module_version": "1.2.0",
            "_view_name": "LayoutView",
            "align_content": null,
            "align_items": null,
            "align_self": null,
            "border": null,
            "bottom": null,
            "display": null,
            "flex": null,
            "flex_flow": null,
            "grid_area": null,
            "grid_auto_columns": null,
            "grid_auto_flow": null,
            "grid_auto_rows": null,
            "grid_column": null,
            "grid_gap": null,
            "grid_row": null,
            "grid_template_areas": null,
            "grid_template_columns": null,
            "grid_template_rows": null,
            "height": null,
            "justify_content": null,
            "justify_items": null,
            "left": null,
            "margin": null,
            "max_height": null,
            "max_width": null,
            "min_height": null,
            "min_width": null,
            "object_fit": null,
            "object_position": null,
            "order": null,
            "overflow": null,
            "overflow_x": null,
            "overflow_y": null,
            "padding": null,
            "right": null,
            "top": null,
            "visibility": null,
            "width": null
          }
        },
        "37c9a38520854d12904dfa3917bccf11": {
          "model_module": "@jupyter-widgets/controls",
          "model_name": "ButtonStyleModel",
          "model_module_version": "1.5.0",
          "state": {
            "_model_module": "@jupyter-widgets/controls",
            "_model_module_version": "1.5.0",
            "_model_name": "ButtonStyleModel",
            "_view_count": null,
            "_view_module": "@jupyter-widgets/base",
            "_view_module_version": "1.2.0",
            "_view_name": "StyleView",
            "button_color": null,
            "font_weight": ""
          }
        }
      }
    }
  },
  "cells": [
    {
      "cell_type": "markdown",
      "metadata": {
        "id": "view-in-github",
        "colab_type": "text"
      },
      "source": [
        "<a href=\"https://colab.research.google.com/github/Marcelodinizsantos/marcelodiniz/blob/main/LEITOR_DE_PDF.ipynb\" target=\"_parent\"><img src=\"https://colab.research.google.com/assets/colab-badge.svg\" alt=\"Open In Colab\"/></a>"
      ]
    },
    {
      "cell_type": "code",
      "source": [
        "# Copyright Marcelo Diniz Santos - 2024\n",
        "# Todos os direitos reservados\n",
        "# Importar as bibliotecas necessárias!\n",
        "!pip install -q -U google-generativeai\n",
        "import ipywidgets as widgets\n",
        "from IPython.display import display\n",
        "import google.generativeai as genai\n",
        "from google.colab import userdata\n",
        "api_key = userdata.get('HEMOGRAMA')\n",
        "genai.configure(api_key=api_key)\n",
        "import io\n",
        "!pip install PyPDF2\n",
        "from PyPDF2 import PdfReader\n",
        "\n",
        "# Configurar a API key do Google Generative AI\n",
        "\n",
        "\n",
        "# Função para exibir a mensagem de boas-vindas e permitir o carregamento do PDF\n",
        "def carregar_pdf():\n",
        "    # Mensagem de boas-vindas\n",
        "    print(\"Seja bem-vindo ao nosso leitor e analista de PDF, carregue o seu documento abaixo.\")\n",
        "\n",
        "    # Widget para carregar o arquivo PDF\n",
        "    upload_btn = widgets.FileUpload(accept=\".pdf\", description=\"Carregar PDF\")\n",
        "\n",
        "    # Widget para enviar o PDF\n",
        "    send_btn = widgets.Button(description=\"Enviar\")\n",
        "\n",
        "    # Função para manipular o evento de clique no botão de enviar\n",
        "    def on_send_btn_clicked(btn):\n",
        "        if upload_btn.value:\n",
        "            # Analisar o PDF\n",
        "            file_name, file_content = next(iter(upload_btn.value.items()))\n",
        "            file_io = io.BytesIO(file_content[\"content\"])\n",
        "            pdf_reader = PdfReader(file_io)\n",
        "            pdf_text = \"\"\n",
        "            for page_num in range(len(pdf_reader.pages)):\n",
        "                pdf_text += pdf_reader.pages[page_num].extract_text()\n",
        "\n",
        "            # Configurar o modelo Gemini 1.0 Pro\n",
        "            generation_config = genai.GenerationConfig(temperature=0.5, top_k=40, top_p=0.95, max_output_tokens=256)\n",
        "            model = genai.GenerativeModel(model_name=\"gemini-1.0-pro\", generation_config=generation_config)\n",
        "\n",
        "            # Dividir o texto em partes menores\n",
        "            chunk_size = 500 # Tamanho de cada parte do texto\n",
        "            text_chunks = [pdf_text[i:i + chunk_size] for i in range(0, len(pdf_text), chunk_size)]\n",
        "\n",
        "            all_comments = []\n",
        "            for chunk in text_chunks:\n",
        "                try:\n",
        "                  # Solicitar ao Gemini para analisar cada parte\n",
        "                  response = model.generate_content(f\"Analise esta parte do documento e me dê um comentário sobre ela: {chunk}\")\n",
        "\n",
        "                  # Extrair o comentário da resposta\n",
        "                  comment = response.text\n",
        "                  all_comments.append(comment)\n",
        "\n",
        "                except ValueError:\n",
        "                    print(f\".: {chunk}\")\n",
        "\n",
        "            # Combinar os comentários\n",
        "            final_comment = \" \".join(all_comments)\n",
        "\n",
        "            print(f\"Comentário sobre o PDF:\\n{final_comment}\")\n",
        "\n",
        "        else:\n",
        "            print(\"Por favor, carregue um arquivo PDF primeiro.\")\n",
        "\n",
        "    # Atribuir a função ao evento de clique do botão de enviar\n",
        "    send_btn.on_click(on_send_btn_clicked)\n",
        "\n",
        "    # Exibir os widgets\n",
        "    display(upload_btn)\n",
        "    display(send_btn)\n",
        "\n",
        "# Chamada da função para iniciar o processo\n",
        "carregar_pdf()"
      ],
      "metadata": {
        "colab": {
          "base_uri": "https://localhost:8080/",
          "height": 116,
          "referenced_widgets": [
            "4b6cab6652bb41dabab37863b8f29324",
            "627559cfdb904be8849a1496d73115bc",
            "017b538d4dd34c348229a7a57a73b35c",
            "af1f23c0f7a6431facb3a8d582f7ba8d",
            "6f715a8a76e04c2fb8673f8addef89f2",
            "37c9a38520854d12904dfa3917bccf11"
          ]
        },
        "id": "AbOthhqt_ZDG",
        "outputId": "c5479849-c055-4aa0-dc18-391d757d31e3"
      },
      "execution_count": 3,
      "outputs": [
        {
          "output_type": "stream",
          "name": "stdout",
          "text": [
            "Requirement already satisfied: PyPDF2 in /usr/local/lib/python3.10/dist-packages (3.0.1)\n",
            "Seja bem-vindo ao nosso leitor e analista de PDF, carregue o seu documento abaixo.\n"
          ]
        },
        {
          "output_type": "display_data",
          "data": {
            "text/plain": [
              "FileUpload(value={}, accept='.pdf', description='Carregar PDF')"
            ],
            "application/vnd.jupyter.widget-view+json": {
              "version_major": 2,
              "version_minor": 0,
              "model_id": "4b6cab6652bb41dabab37863b8f29324"
            }
          },
          "metadata": {}
        },
        {
          "output_type": "display_data",
          "data": {
            "text/plain": [
              "Button(description='Enviar', style=ButtonStyle())"
            ],
            "application/vnd.jupyter.widget-view+json": {
              "version_major": 2,
              "version_minor": 0,
              "model_id": "af1f23c0f7a6431facb3a8d582f7ba8d"
            }
          },
          "metadata": {}
        }
      ]
    }
  ]
}